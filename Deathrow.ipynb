{
 "cells": [
  {
   "cell_type": "markdown",
   "metadata": {
    "ExecuteTime": {
     "end_time": "2021-02-01T15:23:42.806617Z",
     "start_time": "2021-02-01T15:23:42.791323Z"
    }
   },
   "source": [
    "<h1 style=\"font-size:400%;\n",
    "    font-family:Georgia,serif;\n",
    "\tcolor:#4E443C;\n",
    "\tfont-variant: small-caps; text-transform: none; font-weight: 100; margin-bottom: 0;\" align=\"center\"> Death Row Project </h1>\n",
    "    \n",
    "<h1 style=\"font-family:Georgia,serif;\n",
    "\tcolor:#4E443C;\n",
    "\tfont-variant: small; text-transform: none; font-weight: 100; margin-bottom: 0;\" align=\"center\"> Analyzing death row inmates from the Texas Department of Justice through clustering and outlier detection </h1>\n",
    "\n",
    "\n",
    "<h1 style=\"font-size:200%;\n",
    "    font-family:Georgia,serif;\n",
    "\tcolor:#4E443C;\n",
    "\tfont-variant: small-caps; text-transform: none; font-weight: 100; margin-bottom: 0;\" align=\"center\"> - $\\infty$ - </h1>    \n",
    "    \n",
    "--------"
   ]
  },
  {
   "cell_type": "markdown",
   "metadata": {},
   "source": [
    "## **Table of Contents**\n",
    "* [Purpose](#Purpose)\n",
    "* [Data Import and Overview](#Data-Import-and-Overview)\n",
    "* [Data Cleaning](#Data-Cleaning)\n",
    "* [Data Preprocessing](#Data-Preprocessing)\n",
    "* [KMeans on Numerical Features](#KMeans-on-Numerical-Features)\n",
    "* [KPrototypes on All Features](#KPrototypes-on-All-Features)\n",
    "* [BGMM](#BGMM)\n",
    "* [Outlier Detection](#Outlier-Detection)\n",
    "* [Conclusions](#Conclusions)"
   ]
  },
  {
   "cell_type": "markdown",
   "metadata": {},
   "source": [
    "## Purpose"
   ]
  },
  {
   "cell_type": "markdown",
   "metadata": {},
   "source": [
    "## Data Import and Overview"
   ]
  },
  {
   "cell_type": "markdown",
   "metadata": {},
   "source": [
    "## Data Cleaning"
   ]
  },
  {
   "cell_type": "markdown",
   "metadata": {},
   "source": [
    "## Data Preprocessing"
   ]
  },
  {
   "cell_type": "markdown",
   "metadata": {},
   "source": [
    "## KMeans on Numerical Features"
   ]
  },
  {
   "cell_type": "markdown",
   "metadata": {},
   "source": [
    "## KPrototypes on All Features"
   ]
  },
  {
   "cell_type": "markdown",
   "metadata": {},
   "source": [
    "## BGMM"
   ]
  },
  {
   "cell_type": "markdown",
   "metadata": {},
   "source": [
    "## Outlier Detection"
   ]
  },
  {
   "cell_type": "markdown",
   "metadata": {},
   "source": [
    "## Conclusions"
   ]
  }
 ],
 "metadata": {
  "kernelspec": {
   "display_name": "Python 3",
   "language": "python",
   "name": "python3"
  },
  "language_info": {
   "codemirror_mode": {
    "name": "ipython",
    "version": 3
   },
   "file_extension": ".py",
   "mimetype": "text/x-python",
   "name": "python",
   "nbconvert_exporter": "python",
   "pygments_lexer": "ipython3",
   "version": "3.7.4"
  },
  "toc": {
   "base_numbering": 1,
   "nav_menu": {},
   "number_sections": false,
   "sideBar": true,
   "skip_h1_title": false,
   "title_cell": "Table of Contents",
   "title_sidebar": "Contents",
   "toc_cell": false,
   "toc_position": {},
   "toc_section_display": true,
   "toc_window_display": false
  },
  "varInspector": {
   "cols": {
    "lenName": 16,
    "lenType": 16,
    "lenVar": 40
   },
   "kernels_config": {
    "python": {
     "delete_cmd_postfix": "",
     "delete_cmd_prefix": "del ",
     "library": "var_list.py",
     "varRefreshCmd": "print(var_dic_list())"
    },
    "r": {
     "delete_cmd_postfix": ") ",
     "delete_cmd_prefix": "rm(",
     "library": "var_list.r",
     "varRefreshCmd": "cat(var_dic_list()) "
    }
   },
   "types_to_exclude": [
    "module",
    "function",
    "builtin_function_or_method",
    "instance",
    "_Feature"
   ],
   "window_display": false
  }
 },
 "nbformat": 4,
 "nbformat_minor": 2
}
